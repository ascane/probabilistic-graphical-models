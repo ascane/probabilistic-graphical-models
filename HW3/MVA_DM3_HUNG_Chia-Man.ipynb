{
 "cells": [
  {
   "cell_type": "markdown",
   "metadata": {
    "collapsed": true
   },
   "source": [
    "# Hidden Markov Model \n",
    "<i> M2 MVA - ENS Cachan - Chia-Man Hung"
   ]
  },
  {
   "cell_type": "code",
   "execution_count": 1,
   "metadata": {
    "collapsed": true
   },
   "outputs": [],
   "source": [
    "import numpy as np\n",
    "import pandas as pd\n",
    "import matplotlib.pyplot as plt\n",
    "\n",
    "%matplotlib inline"
   ]
  },
  {
   "cell_type": "markdown",
   "metadata": {},
   "source": [
    "## Loading the data"
   ]
  },
  {
   "cell_type": "code",
   "execution_count": 2,
   "metadata": {
    "collapsed": false
   },
   "outputs": [],
   "source": [
    "data = pd.read_csv(\"classification_data_HWK3/EMGaussian.data\", header=None, delim_whitespace=True)\n",
    "n_data = data.shape[0]\n",
    "test = pd.read_csv(\"classification_data_HWK3/EMGaussian.test\", header=None, delim_whitespace=True)\n",
    "n_test= test.shape[0]\n",
    "n_plot = 100\n",
    "d = 2\n",
    "K = 4\n",
    "\n",
    "pi = np.ones((K)) * 1. / K\n",
    "\n",
    "# means and covariance matrices taken from HW2\n",
    "mu = np.matrix([[ 3.98121317, -3.05961285,  3.79952166, -2.03403942],\n",
    "        [ 3.83987129, -3.53232769, -3.77488947,  4.17291863]])\n",
    "sigma = np.array([[[  0.20837986,   0.2756848 ],\n",
    "        [  0.2756848 ,  11.93990587]],\n",
    "\n",
    "       [[  6.25331365,   6.06131602],\n",
    "        [  6.06131602,   6.19286092]],\n",
    "\n",
    "       [[  0.91179453,   0.05566795],\n",
    "        [  0.05566795,   1.91265325]],\n",
    "\n",
    "       [[  2.90590645,   0.20794411],\n",
    "        [  0.20794411,   2.75676235]]])"
   ]
  },
  {
   "cell_type": "code",
   "execution_count": 3,
   "metadata": {
    "collapsed": true
   },
   "outputs": [],
   "source": [
    "data_to_2d_array = np.empty((n_data, d))\n",
    "for i in range(n_data):\n",
    "    for j in range(d):\n",
    "        data_to_2d_array[i, j] = data[j][i]"
   ]
  },
  {
   "cell_type": "code",
   "execution_count": 4,
   "metadata": {
    "collapsed": true
   },
   "outputs": [],
   "source": [
    "test_to_2d_array = np.empty((n_test, d))\n",
    "for i in range(n_test):\n",
    "    for j in range(d):\n",
    "        test_to_2d_array[i, j] = test[j][i]"
   ]
  },
  {
   "cell_type": "code",
   "execution_count": 5,
   "metadata": {
    "collapsed": true
   },
   "outputs": [],
   "source": [
    "A = np.matrix(np.zeros((K, K)))\n",
    "for i in range(K):\n",
    "    for j in range(K):\n",
    "            A[i, j] = 1. / 6\n",
    "    A[i, i] = 1. / 2"
   ]
  },
  {
   "cell_type": "markdown",
   "metadata": {},
   "source": [
    "## Preliminaries"
   ]
  },
  {
   "cell_type": "code",
   "execution_count": 6,
   "metadata": {
    "collapsed": true
   },
   "outputs": [],
   "source": [
    "def logsumexp(v):\n",
    "    \"\"\"\n",
    "    Log sum exponential computation\n",
    "    \n",
    "    Parameters\n",
    "    ----------\n",
    "    v: `numpy.array`, vector of negative integers\n",
    "    \n",
    "    Returns\n",
    "    -------\n",
    "    `float`, log(sum(exp(v)))\n",
    "    \"\"\"\n",
    "    max_v = max(v)\n",
    "    new_v = np.empty((len(v)))\n",
    "    for i in range(len(v)):\n",
    "        new_v[i] = v[i] - max_v\n",
    "    return max_v + np.log(sum(np.exp(new_v)))"
   ]
  },
  {
   "cell_type": "code",
   "execution_count": 7,
   "metadata": {
    "collapsed": true
   },
   "outputs": [],
   "source": [
    "def lognormal(x, mu, sigma):\n",
    "    \"\"\"\n",
    "    Parameters\n",
    "    ----------\n",
    "    x: `numpy.array`\n",
    "    mu: `numpy.matrix`, a column matrix, same length as x\n",
    "    sigma: `numpy.matrix`, positive definite matrix\n",
    "    \n",
    "    Returns\n",
    "    -------\n",
    "    `float`, log(Normal(x; mu, sigma))\n",
    "    \"\"\"\n",
    "    d = len(x)\n",
    "    x_temp = np.matrix(x.reshape(d, 1)) - mu\n",
    "    sigma_inv = np.linalg.inv(sigma)\n",
    "    return - 0.5 * d * np.log(2 * np.pi) - 0.5 * sum(np.log(np.linalg.eigvals(sigma))) - 0.5 * (x_temp.transpose() * sigma_inv * x_temp)[0, 0]"
   ]
  },
  {
   "cell_type": "code",
   "execution_count": 8,
   "metadata": {
    "collapsed": false
   },
   "outputs": [
    {
     "data": {
      "text/plain": [
       "matrix([[-3.05961285],\n",
       "        [-3.53232769]])"
      ]
     },
     "execution_count": 8,
     "metadata": {},
     "output_type": "execute_result"
    }
   ],
   "source": [
    "mu[:, 1]"
   ]
  },
  {
   "cell_type": "code",
   "execution_count": 9,
   "metadata": {
    "collapsed": false
   },
   "outputs": [
    {
     "data": {
      "text/plain": [
       "-4.4456696395505428"
      ]
     },
     "execution_count": 9,
     "metadata": {},
     "output_type": "execute_result"
    }
   ],
   "source": [
    "lognormal(np.array([2, 1]), mu[:, 1], np.matrix(sigma[1]))"
   ]
  },
  {
   "cell_type": "markdown",
   "metadata": {},
   "source": [
    "## Q1 + Q2: Alpha, Beta message passing, Filtering"
   ]
  },
  {
   "cell_type": "markdown",
   "metadata": {},
   "source": [
    "$\\alpha_{t+1}(q_{t+1}) = p(u_{t+1} | q_{t+1}) \\sum_{q_t} p(q_{t+1} | q_t) \\alpha_t(q_t)$ <br />\n",
    "$\\alpha_1(q_1) = p(u_1 | q_1) \\pi (q_1)$ <br />\n",
    "$log \\alpha_{t+1}(q_{t+1}) = log p(u_{t+1} | q_{t+1}) + log \\sum_{q_t} exp( log p(q_{t+1} | q_t) + log\\alpha_t(q_t) )$ <br />"
   ]
  },
  {
   "cell_type": "code",
   "execution_count": 10,
   "metadata": {
    "collapsed": false
   },
   "outputs": [],
   "source": [
    "def log_alpha(data_array, K, pi, mu, sigma, A):\n",
    "    n_data = len(data_array)\n",
    "    log_alpha = np.zeros((n_data, K))\n",
    "    log_alpha[0, :] = np.log(pi)\n",
    "    for k in range(K):\n",
    "        log_alpha[0, k] += lognormal(data_array[0, :], mu[:, k], np.matrix(sigma[k]))\n",
    "    for i in range(1, n_data):\n",
    "        for k in range(K):\n",
    "            log_alpha[i, k] += lognormal(data_array[i, :], mu[:, k], np.matrix(sigma[k]))\n",
    "            sum_log_A_alpha_array = np.zeros((K))\n",
    "            for j in range(K):\n",
    "                sum_log_A_alpha_array[j] = np.log(A[k, j]) + log_alpha[i - 1, j]\n",
    "            log_alpha[i, k] += logsumexp(sum_log_A_alpha_array)\n",
    "    return log_alpha"
   ]
  },
  {
   "cell_type": "code",
   "execution_count": 11,
   "metadata": {
    "collapsed": false
   },
   "outputs": [
    {
     "data": {
      "text/plain": [
       "array([[ -188.00115697,    -3.82569032,   -43.99039401,   -20.50115881],\n",
       "       [  -96.58317785,    -7.01567428,   -27.74616522,   -15.89849723],\n",
       "       [  -12.49889092,   -39.60100562,   -14.24511171,   -23.26529723],\n",
       "       ..., \n",
       "       [-2555.09373621, -2415.88023432, -2446.87159356, -2430.54907937],\n",
       "       [-2618.37219448, -2420.50389377, -2464.51987963, -2441.97364735],\n",
       "       [-2603.10809971, -2423.69693797, -2463.75208079, -2442.19780001]])"
      ]
     },
     "execution_count": 11,
     "metadata": {},
     "output_type": "execute_result"
    }
   ],
   "source": [
    "la = log_alpha(test_to_2d_array, K, pi, mu, sigma, A)\n",
    "la"
   ]
  },
  {
   "cell_type": "markdown",
   "metadata": {},
   "source": [
    "$\\beta_t(q_t) = \\sum_{q_{t+1}} p(q_{t+1} | q_t) p(u_{t+1} | q_{t+1}) \\beta_{t+1}(q_{t+1})$ <br />\n",
    "$\\beta_T(q_T) = 1_K$ <br />"
   ]
  },
  {
   "cell_type": "code",
   "execution_count": 12,
   "metadata": {
    "collapsed": true
   },
   "outputs": [],
   "source": [
    "def log_beta(data_array, K, mu, sigma, A):\n",
    "    n_data = len(data_array)\n",
    "    log_beta = np.zeros((n_data, K))\n",
    "    for i in range(n_data - 2, -1, -1):\n",
    "        for k in range(K):\n",
    "            sum_log_A_beta_array = np.zeros((K))\n",
    "            for j in range(K):\n",
    "                sum_log_A_beta_array[j] = np.log(A[j, k]) + lognormal(data_array[i + 1, :], mu[:, j], np.matrix(sigma[j])) + log_beta[i + 1, j]\n",
    "            log_beta[i, k] = logsumexp(sum_log_A_beta_array)\n",
    "    return log_beta"
   ]
  },
  {
   "cell_type": "code",
   "execution_count": 13,
   "metadata": {
    "collapsed": false
   },
   "outputs": [
    {
     "data": {
      "text/plain": [
       "array([[-2420.96958249, -2419.87124766, -2420.96958248, -2420.96875058],\n",
       "       [-2415.68709225, -2416.68140244, -2416.42132309, -2416.6812947 ],\n",
       "       [-2411.35888548, -2411.35888548, -2411.35888548, -2410.26027319],\n",
       "       ..., \n",
       "       [   -8.91531607,    -7.81670379,    -8.91531607,    -8.91531607],\n",
       "       [   -4.29165646,    -3.19304419,    -4.29165646,    -4.2916564 ],\n",
       "       [    0.        ,     0.        ,     0.        ,     0.        ]])"
      ]
     },
     "execution_count": 13,
     "metadata": {},
     "output_type": "execute_result"
    }
   ],
   "source": [
    "lb = log_beta(test_to_2d_array, K, mu, sigma, A)\n",
    "lb"
   ]
  },
  {
   "cell_type": "markdown",
   "metadata": {},
   "source": [
    "$p(u_1, ..., u_T) = \\sum_{q_t} p(q_t, u_1, ..., u_T) = \\sum_{q_t} \\alpha_t(q_t) \\beta_t(q_t)$"
   ]
  },
  {
   "cell_type": "code",
   "execution_count": 14,
   "metadata": {
    "collapsed": true
   },
   "outputs": [],
   "source": [
    "def log_likelihood(log_alpha, log_beta, K):\n",
    "    log_sum_alpha_beta = np.zeros((K))\n",
    "    for j in range(K):\n",
    "        log_sum_alpha_beta[j] += log_alpha[0, j] + log_beta[0, j]\n",
    "    return logsumexp(log_sum_alpha_beta)"
   ]
  },
  {
   "cell_type": "code",
   "execution_count": 15,
   "metadata": {
    "collapsed": false
   },
   "outputs": [
    {
     "data": {
      "text/plain": [
       "-2423.6969379593393"
      ]
     },
     "execution_count": 15,
     "metadata": {},
     "output_type": "execute_result"
    }
   ],
   "source": [
    "ll = log_likelihood(la, lb, K)\n",
    "ll"
   ]
  },
  {
   "cell_type": "markdown",
   "metadata": {},
   "source": [
    "$p(q_t | u_1, ..., u_T) = \\frac{\\alpha_t(q_t) \\beta_t(q_t)}{\\sum_{q_t} \\alpha_t(q_t) \\beta_t(q_t)}$ <br />\n",
    "$log p(q_t | u_1, ..., u_T) = log \\alpha_t(q_t) + log \\beta_t(q_t) - log p(u_1, ..., u_T)$"
   ]
  },
  {
   "cell_type": "code",
   "execution_count": 16,
   "metadata": {
    "collapsed": true
   },
   "outputs": [],
   "source": [
    "def log_filtering(n_compute, log_alpha, log_beta, K):\n",
    "    ll = log_likelihood(log_alpha, log_beta, K)\n",
    "    log_filtering = np.zeros((n_compute, K))\n",
    "    for i in range(n_compute):\n",
    "        for k in range(K):\n",
    "            log_filtering[i, k] += log_alpha[i, k] + log_beta[i, k] - ll\n",
    "    return log_filtering"
   ]
  },
  {
   "cell_type": "code",
   "execution_count": 17,
   "metadata": {
    "collapsed": false
   },
   "outputs": [],
   "source": [
    "lf = log_filtering(n_plot, la, lb, K)\n",
    "filtering = np.exp(lf)"
   ]
  },
  {
   "cell_type": "code",
   "execution_count": 18,
   "metadata": {
    "collapsed": false
   },
   "outputs": [],
   "source": [
    "def plot_filtering(filtering, n_plot):\n",
    "    f1, axarr1 = plt.subplots(2, sharex=True)\n",
    "    axarr1[0].scatter(range(n_plot), filtering[:, 0])\n",
    "    axarr1[0].set_title('$p(q_t = 1|u_1, ..., u_T)$')\n",
    "    axarr1[1].scatter(range(n_plot), filtering[:, 1])\n",
    "    axarr1[1].set_title('$p(q_t = 2|u_1, ..., u_T)$')\n",
    "\n",
    "    f2, axarr2 = plt.subplots(2, sharex=True)\n",
    "    axarr2[0].scatter(range(n_plot), filtering[:, 2])\n",
    "    axarr2[0].set_title('$p(q_t = 3|u_1, ..., u_T)$')\n",
    "    axarr2[1].scatter(range(n_plot), filtering[:, 3])\n",
    "    axarr2[1].set_title('$p(q_t = 4|u_1, ..., u_T)$')"
   ]
  },
  {
   "cell_type": "code",
   "execution_count": 19,
   "metadata": {
    "collapsed": false
   },
   "outputs": [
    {
     "data": {
      "image/png": "[encoded data removed]",
      "text/plain": [
       "<matplotlib.figure.Figure at 0x9b840f0>"
      ]
     },
     "metadata": {},
     "output_type": "display_data"
    },
    {
     "data": {
      "image/png": "[encoded data removed]",
      "text/plain": [
       "<matplotlib.figure.Figure at 0x990ba58>"
      ]
     },
     "metadata": {},
     "output_type": "display_data"
    }
   ],
   "source": [
    "plot_filtering(filtering, n_plot)"
   ]
  },
  {
   "cell_type": "markdown",
   "metadata": {},
   "source": [
    "$p(q_t = j, q_{t+1} = k | u_1, ..., u_T) = \\frac{1}{p(u_1, ..., u_T)} \\alpha_t(q_t = j) \\beta_{t+1}(q_{t+1} = k) p(q_{t+1} = k | q_t = j) p(u_{t+1} | q_{t+1} = k)$"
   ]
  },
  {
   "cell_type": "code",
   "execution_count": 20,
   "metadata": {
    "collapsed": false
   },
   "outputs": [],
   "source": [
    "def log_filtering_2(data_array, n_compute, log_alpha, log_beta, K):\n",
    "    ll = log_likelihood(log_alpha, log_beta, K)\n",
    "    result = np.zeros((K, K, n_compute))\n",
    "    for i in range(n_compute):\n",
    "        for j in range(K):\n",
    "            for k in range(K):\n",
    "                result[j, k, i] += - ll + log_alpha[i, j] + log_beta[i + 1, k] + np.log(A[k, j]) + lognormal(data_array[i + 1, :], mu[:, k], np.matrix(sigma[k])) \n",
    "    return result"
   ]
  },
  {
   "cell_type": "code",
   "execution_count": 21,
   "metadata": {
    "collapsed": false
   },
   "outputs": [],
   "source": [
    "lf2 = log_filtering_2(test_to_2d_array, n_test - 1, la, lb, K)\n",
    "filtering_2 = np.exp(lf2)"
   ]
  },
  {
   "cell_type": "markdown",
   "metadata": {},
   "source": [
    "## Q3 + Q4: EM-algorithm"
   ]
  },
  {
   "cell_type": "markdown",
   "metadata": {},
   "source": [
    "$\\pi_i^{(k)} = p(q_1 = i | u_1, ..., u_T; \\theta^{(k-1)})$ <br />\n",
    "$A_{i,j}^{(k)} = \\frac{\\sum_{t = 1}^{T-1} p(q_t = i, q_{t+1} = j | u_1, ..., u_T; \\theta^{(k-1)})}{\\sum_{t = 1}^{T-1}  p(q_t = i | u_1, ..., u_T; \\theta^{(k-1)})}$ <br />\n",
    "$\\mu_i^{(k)} = \\frac{\\sum_{t = 1}^T u_t p(q_t = i | u_1, ..., u_T; \\theta^{(k-1)})}{\\sum_{t = 1}^T p(q_t = i | u_1, ..., u_T; \\theta^{(k-1)})}$ <br />\n",
    "$\\Sigma_i^{(k)} = \\frac{\\sum_{t = 1}^T p(q_t = i | u_1, ..., u_T; \\theta^{(k-1)}) (u_t - \\mu_i^{(k)}) (u_t - \\mu_i^{(k)})^T }{\\sum_{t = 1}^T p(q_t = i | u_1, ..., u_T; \\theta^{(k-1)})}$ <br />"
   ]
  },
  {
   "cell_type": "code",
   "execution_count": 22,
   "metadata": {
    "collapsed": true
   },
   "outputs": [],
   "source": [
    "def EM_HMM_iterate_once(data_array, K, d, pi_current, mu_current, sigma_current, A_current):\n",
    "    n_data = len(data_array)\n",
    "    la = log_alpha(data_array, K, pi_current, mu_current, sigma_current, A_current)\n",
    "    lb = log_beta(data_array, K, mu_current, sigma_current, A_current)\n",
    "    lf = log_filtering(n_data, la, lb, K)\n",
    "    f = np.exp(lf)\n",
    "    lf2 = log_filtering_2(data_array, n_data - 1, la, lb, K)\n",
    "    f2 = np.exp(lf2)\n",
    "    \n",
    "    pi_new = f[0]\n",
    "    \n",
    "    A_new = np.zeros((K, K))\n",
    "    for i in range(K):\n",
    "        for j in range(K):\n",
    "            A_new[i, j] += sum(f2[i, j, :]) / sum(f[j])\n",
    "            \n",
    "    mu_new = np.zeros((d, K))\n",
    "    for i in range(K):\n",
    "        numerator = np.zeros((d))\n",
    "        denominator = 0\n",
    "        for t in range(n_data):\n",
    "            numerator += data_array[t, :] * f[t, i]\n",
    "            denominator += f[t, i]\n",
    "        mu_new[:, i] = numerator / denominator\n",
    "    mu_new = np.matrix(mu_new)\n",
    "        \n",
    "    sigma_new = np.zeros((K, d, d))\n",
    "    for i in range(K):\n",
    "        numerator = np.zeros((d, d))\n",
    "        denominator = 0\n",
    "        for t in range(n_data):\n",
    "            diff = np.matrix(data_array[t, :]) - mu_new[: , i]\n",
    "            numerator += diff.transpose() * diff * f[t, i]\n",
    "            denominator += f[t, i]\n",
    "        sigma_new[i, :, :] = numerator / denominator\n",
    "    \n",
    "    return pi_new, mu_new, sigma_new, A_new"
   ]
  },
  {
   "cell_type": "code",
   "execution_count": 23,
   "metadata": {
    "collapsed": false
   },
   "outputs": [
    {
     "data": {
      "text/plain": [
       "array([ 0.25,  0.25,  0.25,  0.25])"
      ]
     },
     "execution_count": 23,
     "metadata": {},
     "output_type": "execute_result"
    }
   ],
   "source": [
    "pi"
   ]
  },
  {
   "cell_type": "code",
   "execution_count": 24,
   "metadata": {
    "collapsed": false
   },
   "outputs": [
    {
     "data": {
      "text/plain": [
       "matrix([[ 3.98121317, -3.05961285,  3.79952166, -2.03403942],\n",
       "        [ 3.83987129, -3.53232769, -3.77488947,  4.17291863]])"
      ]
     },
     "execution_count": 24,
     "metadata": {},
     "output_type": "execute_result"
    }
   ],
   "source": [
    "mu"
   ]
  },
  {
   "cell_type": "code",
   "execution_count": 25,
   "metadata": {
    "collapsed": false
   },
   "outputs": [
    {
     "data": {
      "text/plain": [
       "array([[[  0.20837986,   0.2756848 ],\n",
       "        [  0.2756848 ,  11.93990587]],\n",
       "\n",
       "       [[  6.25331365,   6.06131602],\n",
       "        [  6.06131602,   6.19286092]],\n",
       "\n",
       "       [[  0.91179453,   0.05566795],\n",
       "        [  0.05566795,   1.91265325]],\n",
       "\n",
       "       [[  2.90590645,   0.20794411],\n",
       "        [  0.20794411,   2.75676235]]])"
      ]
     },
     "execution_count": 25,
     "metadata": {},
     "output_type": "execute_result"
    }
   ],
   "source": [
    "sigma"
   ]
  },
  {
   "cell_type": "code",
   "execution_count": 26,
   "metadata": {
    "collapsed": false
   },
   "outputs": [
    {
     "data": {
      "text/plain": [
       "matrix([[ 0.5       ,  0.16666667,  0.16666667,  0.16666667],\n",
       "        [ 0.16666667,  0.5       ,  0.16666667,  0.16666667],\n",
       "        [ 0.16666667,  0.16666667,  0.5       ,  0.16666667],\n",
       "        [ 0.16666667,  0.16666667,  0.16666667,  0.5       ]])"
      ]
     },
     "execution_count": 26,
     "metadata": {},
     "output_type": "execute_result"
    }
   ],
   "source": [
    "A"
   ]
  },
  {
   "cell_type": "code",
   "execution_count": 27,
   "metadata": {
    "collapsed": false
   },
   "outputs": [],
   "source": [
    "pi_new, mu_new, sigma_new, A_new = EM_HMM_iterate_once(data_to_2d_array, K, d, pi, mu, sigma, A)"
   ]
  },
  {
   "cell_type": "code",
   "execution_count": 28,
   "metadata": {
    "collapsed": false
   },
   "outputs": [
    {
     "data": {
      "text/plain": [
       "array([  5.24489725e-10,   9.58814012e-01,   6.92901981e-04,\n",
       "         4.04930851e-02])"
      ]
     },
     "execution_count": 28,
     "metadata": {},
     "output_type": "execute_result"
    }
   ],
   "source": [
    "pi_new"
   ]
  },
  {
   "cell_type": "code",
   "execution_count": 29,
   "metadata": {
    "collapsed": false
   },
   "outputs": [
    {
     "data": {
      "text/plain": [
       "array([[   7.39090897,    7.09582225,    1.90652691,  104.44772189],\n",
       "       [  11.63077512,  134.83760495,    5.14531699,    1.97555401],\n",
       "       [   4.52935532,    3.07079329,   76.45830732,   14.79056594],\n",
       "       [  97.2899406 ,    8.62598049,   15.33817776,    4.46664821]])"
      ]
     },
     "execution_count": 29,
     "metadata": {},
     "output_type": "execute_result"
    }
   ],
   "source": [
    "A_new"
   ]
  },
  {
   "cell_type": "code",
   "execution_count": 30,
   "metadata": {
    "collapsed": false
   },
   "outputs": [
    {
     "data": {
      "text/plain": [
       "matrix([[ 3.99647315, -2.99973801,  3.79876952, -2.01807801],\n",
       "        [ 4.16386539, -3.47176615, -3.70432189,  4.19789121]])"
      ]
     },
     "execution_count": 30,
     "metadata": {},
     "output_type": "execute_result"
    }
   ],
   "source": [
    "mu_new"
   ]
  },
  {
   "cell_type": "code",
   "execution_count": 31,
   "metadata": {
    "collapsed": false
   },
   "outputs": [
    {
     "data": {
      "text/plain": [
       "array([[[  0.42844815,   0.42055684],\n",
       "        [  0.42055684,  20.73547716]],\n",
       "\n",
       "       [[ 13.26957266,  12.65669721],\n",
       "        [ 12.65669721,  13.14146144]],\n",
       "\n",
       "       [[ 58.04280877,   0.11446576],\n",
       "        [  0.11446576,  60.34166851]],\n",
       "\n",
       "       [[ 44.72963209,   0.57736294],\n",
       "        [  0.57736294,  44.06376063]]])"
      ]
     },
     "execution_count": 31,
     "metadata": {},
     "output_type": "execute_result"
    }
   ],
   "source": [
    "sigma_new"
   ]
  },
  {
   "cell_type": "code",
   "execution_count": 32,
   "metadata": {
    "collapsed": true
   },
   "outputs": [],
   "source": [
    "def EM_HMM_iterate(data_array, K, d, pi_current, mu_current, sigma_current, A_current, n_iteration):\n",
    "    pi_before, mu_before, sigma_before, A_before = pi_current, mu_current, sigma_current, A_current\n",
    "    for j in range(n_iteration):\n",
    "        pi_after, mu_after, sigma_after, A_after = EM_HMM_iterate_once(data_array, K, d, pi_before, mu_before, sigma_before, A_before)\n",
    "        pi_before, mu_before, sigma_before, A_before = pi_after, mu_after, sigma_after, A_after\n",
    "    return pi_before, mu_before, sigma_before, A_before"
   ]
  },
  {
   "cell_type": "code",
   "execution_count": 33,
   "metadata": {
    "collapsed": false
   },
   "outputs": [],
   "source": [
    "pi_2, mu_2, sigma_2, A_2 = EM_HMM_iterate(data_to_2d_array, K, d, pi, mu, sigma, A, 2)"
   ]
  },
  {
   "cell_type": "code",
   "execution_count": 34,
   "metadata": {
    "collapsed": false
   },
   "outputs": [
    {
     "data": {
      "text/plain": [
       "array([  2.06860001e-13,   9.97312448e-01,   1.27435458e-04,\n",
       "         2.56011639e-03])"
      ]
     },
     "execution_count": 34,
     "metadata": {},
     "output_type": "execute_result"
    }
   ],
   "source": [
    "pi_2"
   ]
  },
  {
   "cell_type": "code",
   "execution_count": 35,
   "metadata": {
    "collapsed": false
   },
   "outputs": [
    {
     "data": {
      "text/plain": [
       "matrix([[ 3.96792891, -2.90380537,  3.4047849 , -0.81024477],\n",
       "        [ 1.84959246, -3.37977714, -3.68232771,  2.48441618]])"
      ]
     },
     "execution_count": 35,
     "metadata": {},
     "output_type": "execute_result"
    }
   ],
   "source": [
    "mu_2"
   ]
  },
  {
   "cell_type": "code",
   "execution_count": 36,
   "metadata": {
    "collapsed": false
   },
   "outputs": [
    {
     "data": {
      "text/plain": [
       "array([[[  5.04657914,   0.70557249],\n",
       "        [  0.70557249,  44.47682267]],\n",
       "\n",
       "       [[ 14.4486107 ,  13.80999177],\n",
       "        [ 13.80999177,  14.28937632]],\n",
       "\n",
       "       [[ 57.81240918,  -3.28511284],\n",
       "        [ -3.28511284,  61.70091897]],\n",
       "\n",
       "       [[ 27.12872772, -13.8022496 ],\n",
       "        [-13.8022496 ,  38.49177587]]])"
      ]
     },
     "execution_count": 36,
     "metadata": {},
     "output_type": "execute_result"
    }
   ],
   "source": [
    "sigma_2"
   ]
  },
  {
   "cell_type": "code",
   "execution_count": 37,
   "metadata": {
    "collapsed": false
   },
   "outputs": [
    {
     "data": {
      "text/plain": [
       "array([[ 0.51823949,  0.10008876,  1.0929105 ,  1.65730752],\n",
       "       [ 0.28203041,  0.85179415,  0.25519185,  0.22332519],\n",
       "       [ 0.05890593,  0.05793376,  1.34472717,  0.05503072],\n",
       "       [ 0.25946805,  1.1314702 ,  0.53430222,  2.19612279]])"
      ]
     },
     "execution_count": 37,
     "metadata": {},
     "output_type": "execute_result"
    }
   ],
   "source": [
    "A_2"
   ]
  },
  {
   "cell_type": "markdown",
   "metadata": {},
   "source": [
    "## Q5: Log-likelihood"
   ]
  },
  {
   "cell_type": "code",
   "execution_count": 38,
   "metadata": {
    "collapsed": false
   },
   "outputs": [],
   "source": [
    "def log_likelihood_data(data_array, K, pi, mu, sigma, A):\n",
    "    la = log_alpha(data_array, K, pi, mu, sigma, A)\n",
    "    lb = log_beta(data_array, K, mu, sigma, A)\n",
    "    return log_likelihood(la, lb, K)"
   ]
  },
  {
   "cell_type": "code",
   "execution_count": 39,
   "metadata": {
    "collapsed": true
   },
   "outputs": [],
   "source": [
    "def EM_log_likelihood(train_array, test_array, K, d, pi_current, mu_current, sigma_current, A_current, n_iteration):\n",
    "    train_result = []\n",
    "    test_result = []\n",
    "    \n",
    "    pi_before, mu_before, sigma_before, A_before = pi_current, mu_current, sigma_current, A_current\n",
    "    \n",
    "    train_result.append(log_likelihood_data(train_array, K, pi_before, mu_before, sigma_before, A_before))\n",
    "    test_result.append(log_likelihood_data(test_array, K, pi_before, mu_before, sigma_before, A_before))\n",
    "    \n",
    "    for j in range(n_iteration):\n",
    "        pi_after, mu_after, sigma_after, A_after = EM_HMM_iterate_once(train_array, K, d, pi_before, mu_before, sigma_before, A_before)\n",
    "        \n",
    "        train_result.append(log_likelihood_data(train_array, K, pi_after, mu_after, sigma_after, A_after))\n",
    "        test_result.append(log_likelihood_data(test_array, K, pi_after, mu_after, sigma_after, A_after))\n",
    "        \n",
    "        pi_before, mu_before, sigma_before, A_before = pi_after, mu_after, sigma_after, A_after\n",
    "        \n",
    "    return train_result, test_result"
   ]
  },
  {
   "cell_type": "code",
   "execution_count": 40,
   "metadata": {
    "collapsed": false
   },
   "outputs": [],
   "source": [
    "train_ll, test_ll = EM_log_likelihood(data_to_2d_array, test_to_2d_array, K, d, pi, mu, sigma, A, 3)"
   ]
  },
  {
   "cell_type": "code",
   "execution_count": 44,
   "metadata": {
    "collapsed": false
   },
   "outputs": [
    {
     "data": {
      "text/plain": [
       "[-2299.2335709386371,\n",
       " -6.8485605022198275,\n",
       " -2237.1381239499601,\n",
       " -122.62685214796953]"
      ]
     },
     "execution_count": 44,
     "metadata": {},
     "output_type": "execute_result"
    }
   ],
   "source": [
    "train_ll"
   ]
  },
  {
   "cell_type": "code",
   "execution_count": 45,
   "metadata": {
    "collapsed": false
   },
   "outputs": [
    {
     "data": {
      "text/plain": [
       "[-2423.6969379593393,\n",
       " -102.74012147501938,\n",
       " -2311.2583472297797,\n",
       " -247.33757895321577]"
      ]
     },
     "execution_count": 45,
     "metadata": {},
     "output_type": "execute_result"
    }
   ],
   "source": [
    "test_ll"
   ]
  },
  {
   "cell_type": "code",
   "execution_count": 41,
   "metadata": {
    "collapsed": false
   },
   "outputs": [],
   "source": [
    "n_iter = 5\n",
    "X = range(n_iter + 1)\n",
    "Y_train, Y_test = EM_log_likelihood(data_to_2d_array, test_to_2d_array, K, d, pi, mu, sigma, A, n_iteration=n_iter)"
   ]
  },
  {
   "cell_type": "code",
   "execution_count": 42,
   "metadata": {
    "collapsed": false
   },
   "outputs": [
    {
     "data": {
      "image/png": "[encoded data removed]",
      "text/plain": [
       "<matplotlib.figure.Figure at 0xb58eba8>"
      ]
     },
     "metadata": {},
     "output_type": "display_data"
    }
   ],
   "source": [
    "plt.xlabel(\"number of iterations\")\n",
    "plt.ylabel(\"log-likelihood\")\n",
    "plt.title(\"EM on HMM: Training dataset\")\n",
    "plt.plot(X, Y_train)\n",
    "plt.show()"
   ]
  },
  {
   "cell_type": "code",
   "execution_count": 43,
   "metadata": {
    "collapsed": false
   },
   "outputs": [
    {
     "data": {
      "image/png": "[encoded data removed]",
      "text/plain": [
       "<matplotlib.figure.Figure at 0xb9b0a58>"
      ]
     },
     "metadata": {},
     "output_type": "display_data"
    }
   ],
   "source": [
    "plt.xlabel(\"number of iterations\")\n",
    "plt.ylabel(\"log-likelihood\")\n",
    "plt.title(\"EM on HMM: Test dataset\")\n",
    "plt.plot(X, Y_test)\n",
    "plt.show()"
   ]
  },
  {
   "cell_type": "markdown",
   "metadata": {},
   "source": [
    "## Q6: Comparison between Gaussian Mixture Model and HMM"
   ]
  },
  {
   "cell_type": "code",
   "execution_count": null,
   "metadata": {
    "collapsed": true
   },
   "outputs": [],
   "source": []
  },
  {
   "cell_type": "markdown",
   "metadata": {},
   "source": [
    "## Q7 + Q8: Viterbo decoding algorithm (aka max-product algorithm)"
   ]
  },
  {
   "cell_type": "code",
   "execution_count": null,
   "metadata": {
    "collapsed": true
   },
   "outputs": [],
   "source": []
  },
  {
   "cell_type": "markdown",
   "metadata": {},
   "source": [
    "## Q9: Filtering computed from the learnt parameters in Q4"
   ]
  },
  {
   "cell_type": "code",
   "execution_count": null,
   "metadata": {
    "collapsed": true
   },
   "outputs": [],
   "source": []
  },
  {
   "cell_type": "markdown",
   "metadata": {},
   "source": [
    "## Q10: Plot of the most likely states from Q9"
   ]
  },
  {
   "cell_type": "code",
   "execution_count": null,
   "metadata": {
    "collapsed": true
   },
   "outputs": [],
   "source": []
  },
  {
   "cell_type": "markdown",
   "metadata": {},
   "source": [
    "## Q11: Viterbo on the test data / Most likely states"
   ]
  },
  {
   "cell_type": "code",
   "execution_count": null,
   "metadata": {
    "collapsed": true
   },
   "outputs": [],
   "source": []
  }
 ],
 "metadata": {
  "anaconda-cloud": {},
  "kernelspec": {
   "display_name": "Python [conda root]",
   "language": "python",
   "name": "conda-root-py"
  },
  "language_info": {
   "codemirror_mode": {
    "name": "ipython",
    "version": 2
   },
   "file_extension": ".py",
   "mimetype": "text/x-python",
   "name": "python",
   "nbconvert_exporter": "python",
   "pygments_lexer": "ipython2",
   "version": "2.7.12"
  }
 },
 "nbformat": 4,
 "nbformat_minor": 1
}
